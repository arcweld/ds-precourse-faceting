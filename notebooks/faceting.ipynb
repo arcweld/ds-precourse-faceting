{
 "cells": [
  {
   "cell_type": "markdown",
   "metadata": {},
   "source": [
    "# Faceting\n",
    "---"
   ]
  },
  {
   "cell_type": "markdown",
   "metadata": {},
   "source": [
    "## Challenges\n",
    "\n",
    "For the lessons on plotting in DSI precourse, instead of doing regular challenges - you're being asked to write the code to make some basic plots in this Jupyter Notebook before committing your work and submitting the URL to your repository.\n",
    "\n",
    "To do so, you must be sure to first fork and clone this repo, and if you aren't sure how to do that, you can look back to those instructions [here.](https://learn-2.galvanize.com/content_link/github/gSchool/dsi-prep-module-setup/units/04_github/03_fork_clone_pull.md)\n",
    "\n",
    "The completion of this module requires a basic understanding of numpy, pandas, and matplotlib.pyplot. Please **_do not_** use any of the pandas built-in visualization tools.\n",
    "\n",
    "Lastly, you'll need to execute the cells with existing code to import the modules, and the data."
   ]
  },
  {
   "cell_type": "markdown",
   "metadata": {},
   "source": [
    "### Challenge 1\n",
    "\n",
    "For this challenge, you will be using the Johnson and Johnson Data set from before. You will need to do a little work to organize this data in a way that is useful for plotting.\n",
    "\n",
    "```\n",
    "      Qtr1  Qtr2  Qtr3  Qtr4\n",
    "      ----  ----  ----  ----\n",
    "1960  0.71  0.63  0.85  0.44\n",
    "1961  0.61  0.69  0.92  0.55\n",
    "1962  0.72  0.77  0.92  0.60\n",
    "1963  0.83  0.80  1.00  0.77\n",
    "1964  0.92  1.00  1.24  1.00\n",
    "1965  1.16  1.30  1.45  1.25\n",
    "1966  1.26  1.38  1.86  1.56\n",
    "1967  1.53  1.59  1.83  1.86\n",
    "1968  1.53  2.07  2.34  2.25\n",
    "1969  2.16  2.43  2.70  2.25\n",
    "1970  2.79  3.42  3.69  3.60\n",
    "1971  3.60  4.32  4.32  4.05\n",
    "1972  4.86  5.04  5.04  4.41\n",
    "1973  5.58  5.85  6.57  5.31\n",
    "1974  6.03  6.39  6.93  5.85\n",
    "1975  6.93  7.74  7.83  6.12\n",
    "1976  7.74  8.91  8.28  6.84\n",
    "1977  9.54 10.26  9.54  8.73\n",
    "1978 11.88 12.06 12.15  8.91\n",
    "1979 14.04 12.96 14.85  9.99\n",
    "1980 16.20 14.67 16.02 11.61\n",
    "\n",
    "```\n",
    "\n",
    "* Create a 4 row and 1 column plot where:\n",
    "    * The first row is a line graph of all the first quater earnings\n",
    "    * The second row is a line graph of all the second quater earnings\n",
    "    * The third row is a line graph of all the third quater earnings\n",
    "    * The fourth row is a line graph of all the fourth quater earnings\n",
    "* All the plots should have a title saying what quarter is being shown\n",
    "* All the plots but the final should not have an x-axis; the final plot should only have the even years on the axis\n",
    "* The y-axis should be called \"Earnings\"\n",
    "* The x-axis should be called \"Year\"\n",
    "* The whole plot should be titled \"Johnson and Johnson Quarterly Earnings\"\n"
   ]
  },
  {
   "cell_type": "code",
   "execution_count": 3,
   "metadata": {},
   "outputs": [
    {
     "data": {
      "image/png": "[encoded data removed]",
      "text/plain": [
       "<Figure size 432x288 with 4 Axes>"
      ]
     },
     "metadata": {
      "needs_background": "light"
     },
     "output_type": "display_data"
    }
   ],
   "source": [
    "# Your code below (You need to make the appropriate imports of matplotlib and numpy)\n",
    "import numpy as np\n",
    "import matplotlib.pyplot as plt\n",
    "import pandas as pd\n",
    "\n",
    "Year = pd.Series(np.linspace(1960,1981,21,endpoint=False))\n",
    "\n",
    "profits = '''0.71  0.63  0.85  0.44\n",
    "0.61  0.69  0.92  0.55\n",
    "0.72  0.77  0.92  0.60\n",
    "0.83  0.80  1.00  0.77\n",
    "0.92  1.00  1.24  1.00\n",
    "1.16  1.30  1.45  1.25\n",
    "1.26  1.38  1.86  1.56\n",
    "1.53  1.59  1.83  1.86\n",
    "1.53  2.07  2.34  2.25\n",
    "2.16  2.43  2.70  2.25\n",
    "2.79  3.42  3.69  3.60\n",
    "3.60  4.32  4.32  4.05\n",
    "4.86  5.04  5.04  4.41\n",
    "5.58  5.85  6.57  5.31\n",
    "6.03  6.39  6.93  5.85\n",
    "6.93  7.74  7.83  6.12\n",
    "7.74  8.91  8.28  6.84\n",
    "9.54 10.26  9.54  8.73\n",
    "11.88 12.06 12.15  8.91\n",
    "14.04 12.96 14.85  9.99\n",
    "16.20 14.67 16.02 11.61'''.split('\\n')\n",
    "\n",
    "q1, q2, q3, q4 = [], [], [], []\n",
    "for line in profits:\n",
    "    yr = line.split()\n",
    "    q1.append(float(yr[0]))\n",
    "    q2.append(float(yr[1]))\n",
    "    q3.append(float(yr[2]))\n",
    "    q4.append(float(yr[3]))\n",
    "Earnings = pd.DataFrame({'Q1': q1, 'Q2': q2, 'Q3': q3, 'Q4': q4})\n",
    "\n",
    "plt.figure()\n",
    "plt.figtext(0.5, 1, \"Johnson and Johnson Quarterly Earnings\", ha=\"center\", fontsize=14)\n",
    "grid = plt.GridSpec(4, 1, hspace=0.5, wspace=0.1)\n",
    "\n",
    "# Creating subplot for first quarter\n",
    "plt.subplot(grid[0])\n",
    "plt.title(\"First Quarter\", loc='left')\n",
    "plt.plot(Year, Earnings['Q1'])\n",
    "plt.ylabel(\"Earnings\")\n",
    "plt.xticks([])\n",
    "\n",
    "# Creating subplot for second quarter\n",
    "plt.subplot(grid[1])\n",
    "plt.title(\"Second Quarter\", loc='left')\n",
    "plt.plot(Year, Earnings['Q2'])\n",
    "plt.ylabel(\"Earnings\")\n",
    "plt.xticks([])\n",
    "\n",
    "# Creating subplot for third quarter\n",
    "plt.subplot(grid[2])\n",
    "plt.title(\"Third Quarter\", loc='left')\n",
    "plt.plot(Year, Earnings['Q3'])\n",
    "plt.ylabel(\"Earnings\")\n",
    "plt.xticks([])\n",
    "\n",
    "# Creating subplot for fourth quarter\n",
    "plt.subplot(grid[3])\n",
    "plt.title(\"Fourth Quarter\", loc='left')\n",
    "plt.xlabel(\"Year\")\n",
    "plt.plot(Year, Earnings['Q4'])\n",
    "plt.ylabel(\"Earnings\")\n",
    "plt.xticks(range(1960,1981,2))\n",
    "\n",
    "plt.show()"
   ]
  },
  {
   "cell_type": "markdown",
   "metadata": {},
   "source": [
    "1. Once you're happy with your plot, paste your code in the cell below. Replace `plt.show()` with `plt.savefig('../images/jj_qrtr_earnings.png')` and execute the cell to export the image to a file\n",
    "\n",
    "This is a technique that is not shown in the lesson, but is perhaps the most common way that you might create an image which you are able to share or implement in a presentation."
   ]
  },
  {
   "cell_type": "code",
   "execution_count": 4,
   "metadata": {},
   "outputs": [
    {
     "data": {
      "image/png": "[encoded data removed]",
      "text/plain": [
       "<Figure size 432x288 with 4 Axes>"
      ]
     },
     "metadata": {
      "needs_background": "light"
     },
     "output_type": "display_data"
    }
   ],
   "source": [
    "# Paste your code here and export it\n",
    "plt.figure()\n",
    "plt.figtext(0.5, 1, \"Johnson and Johnson Quarterly Earnings\", ha=\"center\", fontsize=14)\n",
    "grid = plt.GridSpec(4, 1, hspace=0.5, wspace=0.1)\n",
    "\n",
    "# Creating subplot for first quarter\n",
    "plt.subplot(grid[0])\n",
    "plt.title(\"First Quarter\", loc='left')\n",
    "plt.plot(Year, Earnings['Q1'])\n",
    "plt.ylabel(\"Earnings\")\n",
    "plt.xticks([])\n",
    "\n",
    "# Creating subplot for second quarter\n",
    "plt.subplot(grid[1])\n",
    "plt.title(\"Second Quarter\", loc='left')\n",
    "plt.plot(Year, Earnings['Q2'])\n",
    "plt.ylabel(\"Earnings\")\n",
    "plt.xticks([])\n",
    "\n",
    "# Creating subplot for third quarter\n",
    "plt.subplot(grid[2])\n",
    "plt.title(\"Third Quarter\", loc='left')\n",
    "plt.plot(Year, Earnings['Q3'])\n",
    "plt.ylabel(\"Earnings\")\n",
    "plt.xticks([])\n",
    "\n",
    "# Creating subplot for fourth quarter\n",
    "plt.subplot(grid[3])\n",
    "plt.title(\"Fourth Quarter\", loc='left')\n",
    "plt.xlabel(\"Year\")\n",
    "plt.plot(Year, Earnings['Q4'])\n",
    "plt.ylabel(\"Earnings\")\n",
    "plt.xticks(range(1960,1981,2))\n",
    "\n",
    "plt.savefig('../images/jj_qrtr_earnings.png')"
   ]
  },
  {
   "cell_type": "markdown",
   "metadata": {},
   "source": [
    "### Challenge 2\n",
    "\n",
    "For this challenge you will be working with the **cars** data set. Run the cell below to import the data set."
   ]
  },
  {
   "cell_type": "code",
   "execution_count": null,
   "metadata": {},
   "outputs": [],
   "source": [
    "import numpy as np\n",
    "import matplotlib.pyplot as plt\n",
    "import pandas as pd\n",
    "\n",
    "cars_data = pd.read_csv('../data/cars.csv', sep='|')\n",
    "cars_data.rename(columns={'Unnamed: 0': 'make_model'}, inplace=True)\n",
    "cars_data.head()"
   ]
  },
  {
   "cell_type": "markdown",
   "metadata": {},
   "source": [
    "For this challenge:\n",
    "* Facet the plots on the number of cylenders each vechical has\n",
    "* Create a single row with with the number of correct plots\n",
    "* Use a scatter plot to show the relation between horse power and quarter mile time\n",
    "* On the x axis plot the horse power\n",
    "* On the y axis plot the the quarter mile time (qsec)\n",
    "* Each plot should have a title saying the number of cylinders\n",
    "* Give each axis an appropriate name"
   ]
  },
  {
   "cell_type": "code",
   "execution_count": null,
   "metadata": {},
   "outputs": [],
   "source": [
    "# Write your code here\n",
    "four_cyl = cars_data[cars_data['cyl'] == 4]\n",
    "six_cyl = cars_data[cars_data['cyl'] == 6]\n",
    "eight_cyl = cars_data[cars_data['cyl'] == 8]\n",
    "\n",
    "plt.figure()\n",
    "plt.figtext(0.5, 1, \"Comparing Vehicles Power and Acceleration\", ha=\"center\", fontsize=14)\n",
    "grid = plt.GridSpec(1, 3)\n",
    "\n",
    "# Creating subplot for four cylinder\n",
    "plt.subplot(grid[0])\n",
    "plt.title(\"Four Cylinders\")\n",
    "plt.scatter(four_cyl['hp'], four_cyl['qsec'])\n",
    "plt.xlabel(\"horsepower\")\n",
    "plt.ylabel(\"quarter mile time, in sec\")\n",
    "plt.axis([min(four_cyl['hp'])-5, max(four_cyl['hp'])+5, 14., 23])\n",
    "\n",
    "# Creating subplot for six cylinder\n",
    "plt.subplot(grid[1])\n",
    "plt.title(\"Six Cylinders\")\n",
    "plt.scatter(six_cyl['hp'], six_cyl['qsec'])\n",
    "plt.xlabel(\"horsepower\")\n",
    "plt.yticks([])\n",
    "plt.axis([min(six_cyl['hp'])-5, max(six_cyl['hp'])+5, 14., 23])\n",
    "\n",
    "# Creating subplot for eight cylinder\n",
    "plt.subplot(grid[2])\n",
    "plt.title(\"Eight Cylinders\")\n",
    "plt.scatter(eight_cyl['hp'], eight_cyl['qsec'])\n",
    "plt.xlabel(\"horsepower\")\n",
    "plt.yticks([])\n",
    "plt.axis([min(eight_cyl['hp'])-5, max(eight_cyl['hp'])+5, 14., 23])\n",
    "\n",
    "plt.show()"
   ]
  },
  {
   "cell_type": "markdown",
   "metadata": {},
   "source": [
    "1. Once you're happy with your plot, paste your code in the cell below. Replace `plt.show()` with `plt.savefig('../images/facet_cyl_cars.png')` and execute the cell to export the image to a file\n",
    "\n",
    "This is a technique that is not shown in the lesson, but is perhaps the most common way that you might create an image which you are able to share or implement in a presentation."
   ]
  },
  {
   "cell_type": "code",
   "execution_count": null,
   "metadata": {},
   "outputs": [],
   "source": [
    "# export code here\n",
    "\n",
    "plt.savefig('../images/facet_cyl_cars.png')"
   ]
  }
 ],
 "metadata": {
  "kernelspec": {
   "display_name": "Python 3",
   "language": "python",
   "name": "python3"
  },
  "language_info": {
   "codemirror_mode": {
    "name": "ipython",
    "version": 3
   },
   "file_extension": ".py",
   "mimetype": "text/x-python",
   "name": "python",
   "nbconvert_exporter": "python",
   "pygments_lexer": "ipython3",
   "version": "3.7.9"
  }
 },
 "nbformat": 4,
 "nbformat_minor": 5
}
